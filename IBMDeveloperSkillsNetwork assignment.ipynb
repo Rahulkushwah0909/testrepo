{
  "metadata": {
    "language_info": {
      "codemirror_mode": {
        "name": "python",
        "version": 3
      },
      "file_extension": ".py",
      "mimetype": "text/x-python",
      "name": "python",
      "nbconvert_exporter": "python",
      "pygments_lexer": "ipython3",
      "version": "3.8"
    },
    "kernelspec": {
      "name": "python",
      "display_name": "Pyolite",
      "language": "python"
    }
  },
  "nbformat_minor": 4,
  "nbformat": 4,
  "cells": [
    {
      "cell_type": "markdown",
      "source": "# My Jupyter Notebook on IBM Watson Studio",
      "metadata": {}
    },
    {
      "cell_type": "markdown",
      "source": "**Rahul Kumar**  \n  Student",
      "metadata": {}
    },
    {
      "cell_type": "markdown",
      "source": "*I am interested in Data Science beacause I love to play with data.I really like the way Data Scince is changing the world\n  and I want to contribute to Data Science community to this world a better place.*",
      "metadata": {}
    },
    {
      "cell_type": "markdown",
      "source": "### The below code is adding two numbers and printing it on the screen",
      "metadata": {}
    },
    {
      "cell_type": "code",
      "source": "a=4\nb=2\nSum=a+b\nprint(\"Total sum of both the numbers is \" + str(Sum))",
      "metadata": {
        "trusted": true
      },
      "execution_count": 10,
      "outputs": [
        {
          "name": "stdout",
          "text": "Total sum of both the numbers is 6\n",
          "output_type": "stream"
        }
      ]
    },
    {
      "cell_type": "markdown",
      "source": "  * The above result contains:  \n      1.Variables  \n    2.Add operation  \n    3.Print method\n    \n    [You can take help of Google for more such examples](https://www.google.com)",
      "metadata": {}
    },
    {
      "cell_type": "code",
      "source": "",
      "metadata": {},
      "execution_count": null,
      "outputs": []
    },
    {
      "cell_type": "code",
      "source": "",
      "metadata": {},
      "execution_count": null,
      "outputs": []
    }
  ]
}